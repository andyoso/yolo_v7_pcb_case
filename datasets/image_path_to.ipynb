{
 "cells": [
  {
   "cell_type": "code",
   "execution_count": 1,
   "metadata": {},
   "outputs": [],
   "source": [
    "import os"
   ]
  },
  {
   "cell_type": "code",
   "execution_count": 23,
   "metadata": {},
   "outputs": [],
   "source": [
    "file = open('train_list.txt','w')\n",
    "\n",
    "data_path = \"images/train\"\n",
    "for class_name in os.listdir(data_path):\n",
    "    for folder_name in os.listdir(data_path+'/'+class_name):\n",
    "        print('datasets' + '/' + data_path + '/' + class_name + '/' + folder_name,file=file)\n",
    "file.close()"
   ]
  }
 ],
 "metadata": {
  "kernelspec": {
   "display_name": "Python 3.7.0 ('tf2.1_py3.7')",
   "language": "python",
   "name": "python3"
  },
  "language_info": {
   "codemirror_mode": {
    "name": "ipython",
    "version": 3
   },
   "file_extension": ".py",
   "mimetype": "text/x-python",
   "name": "python",
   "nbconvert_exporter": "python",
   "pygments_lexer": "ipython3",
   "version": "3.7.0"
  },
  "orig_nbformat": 4,
  "vscode": {
   "interpreter": {
    "hash": "221fd5635c22bf2c555a3f26f054f64d9fba56e54d5d589d70eef5c5132ca3ca"
   }
  }
 },
 "nbformat": 4,
 "nbformat_minor": 2
}
